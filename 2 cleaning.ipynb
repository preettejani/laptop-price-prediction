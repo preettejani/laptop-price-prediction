{
 "cells": [
  {
   "cell_type": "code",
   "execution_count": 1,
   "id": "f7a269dc",
   "metadata": {},
   "outputs": [],
   "source": [
    "import pandas as pd\n",
    "import re"
   ]
  },
  {
   "cell_type": "code",
   "execution_count": 2,
   "id": "84fe6250",
   "metadata": {},
   "outputs": [],
   "source": [
    "file_path = \"croma_laptops.csv\" \n",
    "df = pd.read_csv(file_path)"
   ]
  },
  {
   "cell_type": "code",
   "execution_count": 3,
   "id": "d8d87a0c",
   "metadata": {},
   "outputs": [
    {
     "name": "stdout",
     "output_type": "stream",
     "text": [
      "   Brand Screen Size   Color   RAM Storage   GPU     CPU     Price\n",
      "0  Apple   13.3 inch    Gray   8GB   256GB  None      M1   54490.0\n",
      "1  Apple   13.3 inch    Gold   8GB   256GB  None      M1   54490.0\n",
      "2  Apple   13.3 inch  Silver   8GB   256GB  None      M1   54490.0\n",
      "3  Apple   14.2 inch   Black  24GB   512GB  None  M4 Pro  187990.0\n",
      "4  Apple   13.6 inch    None  16GB   256GB  None      M4   93990.0\n"
     ]
    }
   ],
   "source": [
    "def extract_specs(name):\n",
    "\n",
    "    brand = name.split()[0] if name else None\n",
    "\n",
    "    # Screen Size\n",
    "    screen_size = re.search(r'(\\d{2}\\.?\\d?\\s*inch)', name, re.IGNORECASE)\n",
    "    screen_size = screen_size.group(1) if screen_size else None\n",
    "\n",
    "    # Color\n",
    "    color = re.search(r'(Silver|Gray|Grey|Black|Blue|Gold|White|Green)', name, re.IGNORECASE)\n",
    "    color = color.group(1) if color else None\n",
    "\n",
    "    # RAM\n",
    "    ram = re.search(r'(\\d+GB)\\s*RAM', name, re.IGNORECASE)\n",
    "    if not ram:\n",
    "        ram = re.search(r'(\\d+GB)', name, re.IGNORECASE)\n",
    "    ram = ram.group(1) if ram else None\n",
    "\n",
    "    # Storage (must come AFTER RAM if RAM exists)\n",
    "    storage = None\n",
    "    if ram:\n",
    "        match = re.search(rf'{ram}.*?(\\d+TB|\\d+GB)', name, re.IGNORECASE)\n",
    "        if match:\n",
    "            storage = match.group(1)\n",
    "    if not storage:  # fallback if RAM not found or storage alone present\n",
    "        match = re.search(r'(\\d+TB|\\d+GB)', name, re.IGNORECASE)\n",
    "        if match:\n",
    "            storage = match.group(1)\n",
    "\n",
    "    # GPU\n",
    "    gpu = re.search(r'(NVIDIA\\s+[^\\s,]+|Radeon\\s+[^\\s,]+|Apple\\s+GPU|Intel\\s+Iris\\s+Xe)', name, re.IGNORECASE)\n",
    "    gpu = gpu.group(1) if gpu else None\n",
    "\n",
    "    # CPU\n",
    "    cpu = re.search(r'(Intel\\s+[^\\s,]+|AMD\\s+[^\\s,]+|M\\d\\s*Pro?|M\\d)', name, re.IGNORECASE)\n",
    "    cpu = cpu.group(1) if cpu else None\n",
    "\n",
    "    return pd.Series([brand, screen_size, color, ram, storage, gpu, cpu])\n",
    "\n",
    "df[['Brand', 'Screen Size', 'Color', 'RAM', 'Storage', 'GPU', 'CPU']] = df['Name'].apply(extract_specs)\n",
    "\n",
    "df_cleaned = df[['Brand', 'Screen Size', 'Color', 'RAM', 'Storage', 'GPU', 'CPU', 'Price']]\n",
    "\n",
    "print(df_cleaned.head())"
   ]
  },
  {
   "cell_type": "code",
   "execution_count": 4,
   "id": "838b91b7",
   "metadata": {},
   "outputs": [
    {
     "name": "stderr",
     "output_type": "stream",
     "text": [
      "C:\\Users\\preet\\AppData\\Local\\Temp\\ipykernel_7172\\4090165296.py:1: SettingWithCopyWarning: \n",
      "A value is trying to be set on a copy of a slice from a DataFrame.\n",
      "Try using .loc[row_indexer,col_indexer] = value instead\n",
      "\n",
      "See the caveats in the documentation: https://pandas.pydata.org/pandas-docs/stable/user_guide/indexing.html#returning-a-view-versus-a-copy\n",
      "  df_cleaned['Screen Size'] = df_cleaned['Screen Size'].astype(str).str.extract(r'(\\d+\\.?\\d*)').astype(float)\n"
     ]
    }
   ],
   "source": [
    "df_cleaned['Screen Size'] = df_cleaned['Screen Size'].astype(str).str.extract(r'(\\d+\\.?\\d*)').astype(float)"
   ]
  },
  {
   "cell_type": "code",
   "execution_count": 5,
   "id": "61820bc0",
   "metadata": {},
   "outputs": [
    {
     "name": "stderr",
     "output_type": "stream",
     "text": [
      "C:\\Users\\preet\\AppData\\Local\\Temp\\ipykernel_7172\\446471098.py:1: SettingWithCopyWarning: \n",
      "A value is trying to be set on a copy of a slice from a DataFrame.\n",
      "Try using .loc[row_indexer,col_indexer] = value instead\n",
      "\n",
      "See the caveats in the documentation: https://pandas.pydata.org/pandas-docs/stable/user_guide/indexing.html#returning-a-view-versus-a-copy\n",
      "  df_cleaned['RAM'] = df_cleaned['RAM'].astype(str).str.replace(\"GB\", \"\", regex=False).str.strip().astype(int)\n"
     ]
    }
   ],
   "source": [
    "df_cleaned['RAM'] = df_cleaned['RAM'].astype(str).str.replace(\"GB\", \"\", regex=False).str.strip().astype(int)"
   ]
  },
  {
   "cell_type": "code",
   "execution_count": 6,
   "id": "ae75e160",
   "metadata": {},
   "outputs": [
    {
     "name": "stderr",
     "output_type": "stream",
     "text": [
      "C:\\Users\\preet\\AppData\\Local\\Temp\\ipykernel_7172\\717371732.py:1: SettingWithCopyWarning: \n",
      "A value is trying to be set on a copy of a slice from a DataFrame.\n",
      "Try using .loc[row_indexer,col_indexer] = value instead\n",
      "\n",
      "See the caveats in the documentation: https://pandas.pydata.org/pandas-docs/stable/user_guide/indexing.html#returning-a-view-versus-a-copy\n",
      "  df_cleaned['Storage'] = (\n"
     ]
    }
   ],
   "source": [
    "df_cleaned['Storage'] = (\n",
    "    df_cleaned['Storage'].astype(str)\n",
    "    .str.replace(\"GB\", \"\", regex=False)\n",
    "    .str.replace(\"TB\", \"000\", regex=False) \n",
    "    .str.extract(r'(\\d+)')\n",
    "    .astype(float)\n",
    ")"
   ]
  },
  {
   "cell_type": "code",
   "execution_count": 7,
   "id": "f8d9fb84",
   "metadata": {},
   "outputs": [
    {
     "data": {
      "text/plain": [
       "GPU\n",
       "NVIDIA GeForce     100\n",
       "Intel Iris Xe       14\n",
       "NVIDIA Geforce       3\n",
       "Radeon Graphics      2\n",
       "Radeon RX            1\n",
       "Radeon 610M          1\n",
       "NVIDIA GTX           1\n",
       "Name: count, dtype: int64"
      ]
     },
     "execution_count": 7,
     "metadata": {},
     "output_type": "execute_result"
    }
   ],
   "source": [
    "df_cleaned['GPU'].value_counts()"
   ]
  },
  {
   "cell_type": "code",
   "execution_count": 8,
   "id": "c05898d6",
   "metadata": {},
   "outputs": [
    {
     "data": {
      "text/plain": [
       "Brand            0\n",
       "Screen Size      0\n",
       "Color           62\n",
       "RAM              0\n",
       "Storage          0\n",
       "GPU            351\n",
       "CPU             28\n",
       "Price            0\n",
       "dtype: int64"
      ]
     },
     "execution_count": 8,
     "metadata": {},
     "output_type": "execute_result"
    }
   ],
   "source": [
    "df_cleaned.isnull().sum()"
   ]
  },
  {
   "cell_type": "code",
   "execution_count": 9,
   "id": "54c116e3",
   "metadata": {},
   "outputs": [
    {
     "name": "stderr",
     "output_type": "stream",
     "text": [
      "C:\\Users\\preet\\AppData\\Local\\Temp\\ipykernel_7172\\471025406.py:1: SettingWithCopyWarning: \n",
      "A value is trying to be set on a copy of a slice from a DataFrame.\n",
      "Try using .loc[row_indexer,col_indexer] = value instead\n",
      "\n",
      "See the caveats in the documentation: https://pandas.pydata.org/pandas-docs/stable/user_guide/indexing.html#returning-a-view-versus-a-copy\n",
      "  df_cleaned['Brand'] = df_cleaned['Brand'].astype(str)\n"
     ]
    }
   ],
   "source": [
    "df_cleaned['Brand'] = df_cleaned['Brand'].astype(str)"
   ]
  },
  {
   "cell_type": "code",
   "execution_count": 10,
   "id": "d9a3e573",
   "metadata": {},
   "outputs": [],
   "source": [
    "df_cleaned.loc[(df_cleaned['Brand'].str.lower() == 'apple') & (df_cleaned['GPU'].isna()),'GPU'] = \"Integrated\""
   ]
  },
  {
   "cell_type": "code",
   "execution_count": 11,
   "id": "50ef3925",
   "metadata": {},
   "outputs": [
    {
     "data": {
      "text/plain": [
       "Brand            0\n",
       "Screen Size      0\n",
       "Color           62\n",
       "RAM              0\n",
       "Storage          0\n",
       "GPU            252\n",
       "CPU             28\n",
       "Price            0\n",
       "dtype: int64"
      ]
     },
     "execution_count": 11,
     "metadata": {},
     "output_type": "execute_result"
    }
   ],
   "source": [
    "df_cleaned.isnull().sum()"
   ]
  },
  {
   "cell_type": "code",
   "execution_count": 12,
   "id": "64cdf236",
   "metadata": {},
   "outputs": [
    {
     "name": "stderr",
     "output_type": "stream",
     "text": [
      "C:\\Users\\preet\\AppData\\Local\\Temp\\ipykernel_7172\\3687147286.py:1: SettingWithCopyWarning: \n",
      "A value is trying to be set on a copy of a slice from a DataFrame.\n",
      "Try using .loc[row_indexer,col_indexer] = value instead\n",
      "\n",
      "See the caveats in the documentation: https://pandas.pydata.org/pandas-docs/stable/user_guide/indexing.html#returning-a-view-versus-a-copy\n",
      "  df_cleaned['GPU'] = df_cleaned['GPU'].fillna(\"Integrated\")\n"
     ]
    }
   ],
   "source": [
    "df_cleaned['GPU'] = df_cleaned['GPU'].fillna(\"Integrated\")"
   ]
  },
  {
   "cell_type": "code",
   "execution_count": 13,
   "id": "6127d310",
   "metadata": {},
   "outputs": [
    {
     "name": "stderr",
     "output_type": "stream",
     "text": [
      "C:\\Users\\preet\\AppData\\Local\\Temp\\ipykernel_7172\\2966871725.py:2: SettingWithCopyWarning: \n",
      "A value is trying to be set on a copy of a slice from a DataFrame.\n",
      "Try using .loc[row_indexer,col_indexer] = value instead\n",
      "\n",
      "See the caveats in the documentation: https://pandas.pydata.org/pandas-docs/stable/user_guide/indexing.html#returning-a-view-versus-a-copy\n",
      "  df_cleaned['Color'] = df_cleaned['Color'].fillna(color_mode)\n"
     ]
    }
   ],
   "source": [
    "color_mode = df_cleaned['Color'].mode()[0]\n",
    "df_cleaned['Color'] = df_cleaned['Color'].fillna(color_mode)"
   ]
  },
  {
   "cell_type": "code",
   "execution_count": 14,
   "id": "e79c46b3",
   "metadata": {},
   "outputs": [
    {
     "data": {
      "text/plain": [
       "Brand           0\n",
       "Screen Size     0\n",
       "Color           0\n",
       "RAM             0\n",
       "Storage         0\n",
       "GPU             0\n",
       "CPU            28\n",
       "Price           0\n",
       "dtype: int64"
      ]
     },
     "execution_count": 14,
     "metadata": {},
     "output_type": "execute_result"
    }
   ],
   "source": [
    "df_cleaned.isnull().sum()"
   ]
  },
  {
   "cell_type": "code",
   "execution_count": 15,
   "id": "569272b5",
   "metadata": {},
   "outputs": [
    {
     "name": "stderr",
     "output_type": "stream",
     "text": [
      "C:\\Users\\preet\\AppData\\Local\\Temp\\ipykernel_7172\\2964110142.py:2: SettingWithCopyWarning: \n",
      "A value is trying to be set on a copy of a slice from a DataFrame.\n",
      "Try using .loc[row_indexer,col_indexer] = value instead\n",
      "\n",
      "See the caveats in the documentation: https://pandas.pydata.org/pandas-docs/stable/user_guide/indexing.html#returning-a-view-versus-a-copy\n",
      "  df_cleaned['CPU'] = df_cleaned['CPU'].fillna(cpu_mode)\n"
     ]
    }
   ],
   "source": [
    "cpu_mode = df_cleaned['CPU'].mode()[0]\n",
    "df_cleaned['CPU'] = df_cleaned['CPU'].fillna(cpu_mode)"
   ]
  },
  {
   "cell_type": "code",
   "execution_count": 16,
   "id": "98005414",
   "metadata": {},
   "outputs": [],
   "source": [
    "df_cleaned.to_csv(\"cleaned_croma_laptops.csv\", index=False)"
   ]
  },
  {
   "cell_type": "code",
   "execution_count": 17,
   "id": "1599facb",
   "metadata": {},
   "outputs": [
    {
     "data": {
      "text/html": [
       "<div>\n",
       "<style scoped>\n",
       "    .dataframe tbody tr th:only-of-type {\n",
       "        vertical-align: middle;\n",
       "    }\n",
       "\n",
       "    .dataframe tbody tr th {\n",
       "        vertical-align: top;\n",
       "    }\n",
       "\n",
       "    .dataframe thead th {\n",
       "        text-align: right;\n",
       "    }\n",
       "</style>\n",
       "<table border=\"1\" class=\"dataframe\">\n",
       "  <thead>\n",
       "    <tr style=\"text-align: right;\">\n",
       "      <th></th>\n",
       "      <th>Brand</th>\n",
       "      <th>Screen Size</th>\n",
       "      <th>Color</th>\n",
       "      <th>RAM</th>\n",
       "      <th>Storage</th>\n",
       "      <th>GPU</th>\n",
       "      <th>CPU</th>\n",
       "      <th>Price</th>\n",
       "    </tr>\n",
       "  </thead>\n",
       "  <tbody>\n",
       "    <tr>\n",
       "      <th>0</th>\n",
       "      <td>Apple</td>\n",
       "      <td>13.3</td>\n",
       "      <td>Gray</td>\n",
       "      <td>8</td>\n",
       "      <td>256.0</td>\n",
       "      <td>Integrated</td>\n",
       "      <td>M1</td>\n",
       "      <td>54490.0</td>\n",
       "    </tr>\n",
       "    <tr>\n",
       "      <th>1</th>\n",
       "      <td>Apple</td>\n",
       "      <td>13.3</td>\n",
       "      <td>Gold</td>\n",
       "      <td>8</td>\n",
       "      <td>256.0</td>\n",
       "      <td>Integrated</td>\n",
       "      <td>M1</td>\n",
       "      <td>54490.0</td>\n",
       "    </tr>\n",
       "    <tr>\n",
       "      <th>2</th>\n",
       "      <td>Apple</td>\n",
       "      <td>13.3</td>\n",
       "      <td>Silver</td>\n",
       "      <td>8</td>\n",
       "      <td>256.0</td>\n",
       "      <td>Integrated</td>\n",
       "      <td>M1</td>\n",
       "      <td>54490.0</td>\n",
       "    </tr>\n",
       "    <tr>\n",
       "      <th>3</th>\n",
       "      <td>Apple</td>\n",
       "      <td>14.2</td>\n",
       "      <td>Black</td>\n",
       "      <td>24</td>\n",
       "      <td>512.0</td>\n",
       "      <td>Integrated</td>\n",
       "      <td>M4 Pro</td>\n",
       "      <td>187990.0</td>\n",
       "    </tr>\n",
       "    <tr>\n",
       "      <th>4</th>\n",
       "      <td>Apple</td>\n",
       "      <td>13.6</td>\n",
       "      <td>Silver</td>\n",
       "      <td>16</td>\n",
       "      <td>256.0</td>\n",
       "      <td>Integrated</td>\n",
       "      <td>M4</td>\n",
       "      <td>93990.0</td>\n",
       "    </tr>\n",
       "    <tr>\n",
       "      <th>...</th>\n",
       "      <td>...</td>\n",
       "      <td>...</td>\n",
       "      <td>...</td>\n",
       "      <td>...</td>\n",
       "      <td>...</td>\n",
       "      <td>...</td>\n",
       "      <td>...</td>\n",
       "      <td>...</td>\n",
       "    </tr>\n",
       "    <tr>\n",
       "      <th>468</th>\n",
       "      <td>DELL</td>\n",
       "      <td>16.3</td>\n",
       "      <td>Silver</td>\n",
       "      <td>32</td>\n",
       "      <td>1000.0</td>\n",
       "      <td>Integrated</td>\n",
       "      <td>Intel Core</td>\n",
       "      <td>327199.0</td>\n",
       "    </tr>\n",
       "    <tr>\n",
       "      <th>469</th>\n",
       "      <td>SAMSUNG</td>\n",
       "      <td>14.0</td>\n",
       "      <td>Gray</td>\n",
       "      <td>16</td>\n",
       "      <td>1000.0</td>\n",
       "      <td>Integrated</td>\n",
       "      <td>Intel Core</td>\n",
       "      <td>145990.0</td>\n",
       "    </tr>\n",
       "    <tr>\n",
       "      <th>470</th>\n",
       "      <td>SAMSUNG</td>\n",
       "      <td>14.0</td>\n",
       "      <td>Gray</td>\n",
       "      <td>16</td>\n",
       "      <td>512.0</td>\n",
       "      <td>Integrated</td>\n",
       "      <td>Intel Core</td>\n",
       "      <td>139990.0</td>\n",
       "    </tr>\n",
       "    <tr>\n",
       "      <th>471</th>\n",
       "      <td>SAMSUNG</td>\n",
       "      <td>14.0</td>\n",
       "      <td>Gray</td>\n",
       "      <td>32</td>\n",
       "      <td>1000.0</td>\n",
       "      <td>Integrated</td>\n",
       "      <td>Intel Core</td>\n",
       "      <td>171990.0</td>\n",
       "    </tr>\n",
       "    <tr>\n",
       "      <th>472</th>\n",
       "      <td>DELL</td>\n",
       "      <td>15.6</td>\n",
       "      <td>Silver</td>\n",
       "      <td>16</td>\n",
       "      <td>512.0</td>\n",
       "      <td>Integrated</td>\n",
       "      <td>Intel Core</td>\n",
       "      <td>61990.0</td>\n",
       "    </tr>\n",
       "  </tbody>\n",
       "</table>\n",
       "<p>473 rows × 8 columns</p>\n",
       "</div>"
      ],
      "text/plain": [
       "       Brand  Screen Size   Color  RAM  Storage         GPU         CPU  \\\n",
       "0      Apple         13.3    Gray    8    256.0  Integrated          M1   \n",
       "1      Apple         13.3    Gold    8    256.0  Integrated          M1   \n",
       "2      Apple         13.3  Silver    8    256.0  Integrated          M1   \n",
       "3      Apple         14.2   Black   24    512.0  Integrated      M4 Pro   \n",
       "4      Apple         13.6  Silver   16    256.0  Integrated          M4   \n",
       "..       ...          ...     ...  ...      ...         ...         ...   \n",
       "468     DELL         16.3  Silver   32   1000.0  Integrated  Intel Core   \n",
       "469  SAMSUNG         14.0    Gray   16   1000.0  Integrated  Intel Core   \n",
       "470  SAMSUNG         14.0    Gray   16    512.0  Integrated  Intel Core   \n",
       "471  SAMSUNG         14.0    Gray   32   1000.0  Integrated  Intel Core   \n",
       "472     DELL         15.6  Silver   16    512.0  Integrated  Intel Core   \n",
       "\n",
       "        Price  \n",
       "0     54490.0  \n",
       "1     54490.0  \n",
       "2     54490.0  \n",
       "3    187990.0  \n",
       "4     93990.0  \n",
       "..        ...  \n",
       "468  327199.0  \n",
       "469  145990.0  \n",
       "470  139990.0  \n",
       "471  171990.0  \n",
       "472   61990.0  \n",
       "\n",
       "[473 rows x 8 columns]"
      ]
     },
     "execution_count": 17,
     "metadata": {},
     "output_type": "execute_result"
    }
   ],
   "source": [
    "df_cleaned"
   ]
  }
 ],
 "metadata": {
  "kernelspec": {
   "display_name": "base",
   "language": "python",
   "name": "python3"
  },
  "language_info": {
   "codemirror_mode": {
    "name": "ipython",
    "version": 3
   },
   "file_extension": ".py",
   "mimetype": "text/x-python",
   "name": "python",
   "nbconvert_exporter": "python",
   "pygments_lexer": "ipython3",
   "version": "3.12.7"
  }
 },
 "nbformat": 4,
 "nbformat_minor": 5
}
